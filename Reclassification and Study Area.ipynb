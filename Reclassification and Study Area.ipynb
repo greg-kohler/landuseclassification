{
 "cells": [
  {
   "cell_type": "markdown",
   "metadata": {},
   "source": [
    "# Section 1: Reclassification and Study Area"
   ]
  },
  {
   "cell_type": "markdown",
   "metadata": {},
   "source": [
    "### Reclassify Use Classes to Generic Categories"
   ]
  },
  {
   "cell_type": "code",
   "execution_count": 2,
   "metadata": {
    "scrolled": true
   },
   "outputs": [
    {
     "name": "stdout",
     "output_type": "stream",
     "text": [
      "Residential for 2022 completed.\n",
      "Commercial for 2022 completed.\n",
      "Industrial for 2022 completed.\n",
      "Agriculture for 2022 completed.\n",
      "Other for 2022 completed.\n"
     ]
    }
   ],
   "source": [
    "years = ['2013','2014','2015','2016','2017','2018','2019','2020','2021','2022','2023']\n",
    "for year in years:\n",
    "#Residential\n",
    "    arcpy.management.SelectLayerByAttribute(\n",
    "        in_layer_or_view=f\"Parcels{year}Hennepin\",\n",
    "        selection_type=\"NEW_SELECTION\",\n",
    "        where_clause=\"USECLASS1 = 'Apartment' Or USECLASS1 = 'Apartment Condominium' Or USECLASS1 = 'Condo - Garage/Miscellaneous' Or USECLASS1 = 'Condominium (also Market Rate Cooperative)' Or USECLASS1 = 'Triplex' Or USECLASS1 = 'Townhouse' Or USECLASS1 = 'Vacant Land - Residential' Or USECLASS1 = 'Vacant Land - Rural Residential' Or USECLASS1 = 'Double Bungalow' Or USECLASS1 = 'Housing - Low Income < 4 Units' Or USECLASS1 = 'Housing - Low Income < 4 Units Excess' Or USECLASS1 = 'Housing - Low Income > 3 Units' Or USECLASS1 = 'Housing - Low Income > 3 Units Excess' Or USECLASS1 = 'Manufactured Home Park' Or USECLASS1 = 'Manufactured Home Park - EDU Cert' Or USECLASS1 = 'Residential' Or USECLASS1 = 'Residential - Misc/ B&B / Multiple' Or USECLASS1 = 'Residential Lake Shore' Or USECLASS1 = 'Residential-Zero Lot Line-DB' Or USECLASS1 = 'Seasonal Residential Rec.' Or USECLASS1 = 'Sorority/Fraternity Housing' Or USECLASS1 = 'Blind Joint Tenancy' Or USECLASS1 = 'Blind' Or USECLASS1 = 'Disabled' Or USECLASS1 = 'Disabled Joint Tenancy' Or USECLASS1 = 'Vacant Land - Apartment' Or USECLASS1 = 'Apartment Condominium' Or USECLASS1 = 'Nursing Home' Or USECLASS1 = 'Vacant Land - Residential' Or USECLASS1 = 'Farm - Hmstd (House & 1 Acre)' Or USECLASS1 = 'Residential Lakeshore' Or USECLASS1 = 'Farm-Hmstd (House & 1 Acre)' Or USECLASS1 = 'Condominium' Or USECLASS1 = 'Mobile Home Park' Or USECLASS1 = 'Condo Garage/Miscellaneous' Or USECLASS1 = 'Non 4BB Compliant (Mpls only)' Or USECLASS1 = 'HM' Or USECLASS1 = 'Resd''l Misc & Bed & Breakfast'\",\n",
    "        invert_where_clause=None\n",
    "    )\n",
    "    arcpy.management.CalculateField(\n",
    "        in_table=f\"Parcels{year}Hennepin\",\n",
    "        field=\"RECLASS\",\n",
    "        expression='\"Residential\"',\n",
    "        expression_type=\"PYTHON3\",\n",
    "        code_block=\"\",\n",
    "        field_type=\"TEXT\",\n",
    "        enforce_domains=\"NO_ENFORCE_DOMAINS\"\n",
    "    )\n",
    "    print(f\"Residential for {year} completed.\")\n",
    "    #Commerical\n",
    "    arcpy.management.SelectLayerByAttribute(\n",
    "        in_layer_or_view=f\"Parcels{year}Hennepin\",\n",
    "        selection_type=\"NEW_SELECTION\",\n",
    "        where_clause=\"USECLASS1 = 'Chartered Veteran''s Org (Donation)' Or USECLASS1 = 'Commercial' Or USECLASS1 = 'Community Org (Donation)' Or USECLASS1 = 'Community Org (Non Revenue)' Or USECLASS1 = 'Cooperative (Limited Equity)' Or USECLASS1 = 'Seasonal Lakeshore Restaurant' Or USECLASS1 = 'Seasonal Marina' Or USECLASS1 = 'Social Club (Mpls only)' Or USECLASS1 = 'Vacant Land - Commercial' Or USECLASS1 = 'Golf Course - Reduced Rate' Or USECLASS1 = 'Non Profit Comm Assoc' Or USECLASS1 = 'Non Profit Comm Assoc (Donation)' Or USECLASS1 = 'Chartered Veteran''s Org (Non Revenue)' Or USECLASS1 = 'Cooperative'\",\n",
    "        invert_where_clause=None\n",
    "    )\n",
    "    arcpy.management.CalculateField(\n",
    "        in_table=f\"Parcels{year}Hennepin\",\n",
    "        field=\"RECLASS\",\n",
    "        expression='\"Commerical\"',\n",
    "        expression_type=\"PYTHON3\",\n",
    "        code_block=\"\",\n",
    "        field_type=\"TEXT\",\n",
    "        enforce_domains=\"NO_ENFORCE_DOMAINS\"\n",
    "    )\n",
    "    print(f\"Commercial for {year} completed.\")\n",
    "    #Industrial\n",
    "    arcpy.management.SelectLayerByAttribute(\n",
    "        in_layer_or_view=f\"Parcels{year}Hennepin\",\n",
    "        selection_type=\"NEW_SELECTION\",\n",
    "        where_clause=\"USECLASS1 = 'Industrial' Or USECLASS1 = 'Vacant Land - Industrial' Or USECLASS1 = 'Utility' Or USECLASS1 = 'Railroad'\",\n",
    "        invert_where_clause=None\n",
    "    )\n",
    "    arcpy.management.CalculateField(\n",
    "        in_table=f\"Parcels{year}Hennepin\",\n",
    "        field=\"RECLASS\",\n",
    "        expression='\"Industrial\"',\n",
    "        expression_type=\"PYTHON3\",\n",
    "        code_block=\"\",\n",
    "        field_type=\"TEXT\",\n",
    "        enforce_domains=\"NO_ENFORCE_DOMAINS\"\n",
    "    )\n",
    "    print(f\"Industrial for {year} completed.\")\n",
    "    #Agriculture\n",
    "    arcpy.management.SelectLayerByAttribute(\n",
    "        in_layer_or_view=f\"Parcels{year}Hennepin\",\n",
    "        selection_type=\"NEW_SELECTION\",\n",
    "        where_clause=\"USECLASS1 = 'Farm' Or USECLASS1 = 'Farm - Agricultural Preserve' Or USECLASS1 = 'Farm - Non Hmstd Multi Unit' Or USECLASS1 = 'Vacant Land - Rural Farm' or USECLASS1 = 'Agricultural Preserve'\",\n",
    "        invert_where_clause=None\n",
    "    )\n",
    "    arcpy.management.CalculateField(\n",
    "        in_table=f\"Parcels{year}Hennepin\",\n",
    "        field=\"RECLASS\",\n",
    "        expression='\"Agricultural\"',\n",
    "        expression_type=\"PYTHON3\",\n",
    "        code_block=\"\",\n",
    "        field_type=\"TEXT\",\n",
    "        enforce_domains=\"NO_ENFORCE_DOMAINS\"\n",
    "    )\n",
    "    print(f\"Agriculture for {year} completed.\")\n",
    "    #Other\n",
    "    arcpy.management.SelectLayerByAttribute(\n",
    "        in_layer_or_view=f\"Parcels{year}Hennepin\",\n",
    "        selection_type=\"NEW_SELECTION\",\n",
    "        where_clause=\"USECLASS1 = 'Common Area (No Value)' Or USECLASS1 = 'Vacant Land - Lakeshore' Or USECLASS1 IS NULL Or USECLASS1 = ' ' Or USECLASS1 = '' Or USECLASS1 = 'Bldg. on Perma Lease Land'\",\n",
    "        invert_where_clause=None\n",
    "    )\n",
    "    arcpy.management.CalculateField(\n",
    "        in_table=f\"Parcels{year}Hennepin\",\n",
    "        field=\"RECLASS\",\n",
    "        expression='\"Other\"',\n",
    "        expression_type=\"PYTHON3\",\n",
    "        code_block=\"\",\n",
    "        field_type=\"TEXT\",\n",
    "        enforce_domains=\"NO_ENFORCE_DOMAINS\"\n",
    "    )\n",
    "    print(f\"Other for {year} completed.\")"
   ]
  },
  {
   "cell_type": "markdown",
   "metadata": {},
   "source": [
    "### Calculate a Numeric Land Use Field"
   ]
  },
  {
   "cell_type": "code",
   "execution_count": 12,
   "metadata": {},
   "outputs": [],
   "source": [
    "years = ['2013','2014','2015','2016','2017','2018','2019','2020','2021','2022','2023']\n",
    "for year in years:\n",
    "    arcpy.management.CalculateField(\n",
    "        in_table=f\"Parcels{year}Hennepin\",\n",
    "        field=\"LandUse\",\n",
    "        expression=\"\"\"// Define the variable for the RECLASS field\n",
    "    var landUse = $feature.RECLASS;\n",
    "\n",
    "    // Initialize the Value variable\n",
    "    var Value;\n",
    "\n",
    "    // Assign numeric values based on the land use classification\n",
    "    if (landUse == \"Residential\") {\n",
    "        Value = 1;\n",
    "    } else if (landUse == \"Commerical\") {\n",
    "        Value = 2;\n",
    "    } else if (landUse == \"Industrial\") {\n",
    "        Value = 3;\n",
    "    } else if (landUse == \"Agricultural\") {\n",
    "        Value = 4;\n",
    "    } else if (landUse == \"Other\") {\n",
    "        Value = 5;\n",
    "    } \n",
    "\n",
    "    // Return the calculated Value\n",
    "    return Value;\n",
    "    \"\"\",\n",
    "        expression_type=\"ARCADE\",\n",
    "        code_block=\"\",\n",
    "        field_type=\"LONG\",\n",
    "        enforce_domains=\"NO_ENFORCE_DOMAINS\"\n",
    "    )"
   ]
  },
  {
   "cell_type": "markdown",
   "metadata": {},
   "source": [
    "### Convert Parcels to Raster"
   ]
  },
  {
   "cell_type": "code",
   "execution_count": 2,
   "metadata": {},
   "outputs": [],
   "source": [
    "resolution = 15"
   ]
  },
  {
   "cell_type": "code",
   "execution_count": 3,
   "metadata": {},
   "outputs": [
    {
     "name": "stdout",
     "output_type": "stream",
     "text": [
      "Parcels for 2013 converted to raster.\n",
      "Parcels for 2014 converted to raster.\n",
      "Parcels for 2015 converted to raster.\n",
      "Parcels for 2016 converted to raster.\n",
      "Parcels for 2017 converted to raster.\n",
      "Parcels for 2018 converted to raster.\n",
      "Parcels for 2019 converted to raster.\n",
      "Parcels for 2020 converted to raster.\n",
      "Parcels for 2021 converted to raster.\n",
      "Parcels for 2022 converted to raster.\n",
      "Parcels for 2023 converted to raster.\n"
     ]
    }
   ],
   "source": [
    "years = ['2013','2014','2015','2016','2017','2018','2019','2020','2021','2022','2023']\n",
    "for year in years:\n",
    "    arcpy.conversion.PolygonToRaster(\n",
    "    in_features=fr\"C:\\Mac\\Home\\Desktop\\Spatial Temporal Seminar\\SpatioTemporalFinalProject\\Hennepin_Parcels.gdb\\Parcels{year}Hennepin\",\n",
    "    value_field=\"LandUse\",\n",
    "    out_rasterdataset=fr\"C:\\Mac\\Home\\Desktop\\Spatial Temporal Seminar\\SpatioTemporalFinalProject\\SpatioTemporalFinalProject.gdb\\Hennepin{year}_Parcels_Raster{resolution}\",\n",
    "    cell_assignment=\"MAXIMUM_AREA\",\n",
    "    priority_field=\"NONE\",\n",
    "    cellsize=resolution,\n",
    "    build_rat=\"BUILD\"\n",
    ")\n",
    "    print(f\"Parcels for {year} converted to raster.\")"
   ]
  },
  {
   "cell_type": "markdown",
   "metadata": {},
   "source": [
    "### Align Rasters"
   ]
  },
  {
   "cell_type": "code",
   "execution_count": 4,
   "metadata": {
    "scrolled": true
   },
   "outputs": [
    {
     "name": "stdout",
     "output_type": "stream",
     "text": [
      "Raster data for 2013 aligned.\n",
      "Raster data for 2014 aligned.\n",
      "Raster data for 2015 aligned.\n",
      "Raster data for 2016 aligned.\n",
      "Raster data for 2017 aligned.\n",
      "Raster data for 2018 aligned.\n",
      "Raster data for 2019 aligned.\n",
      "Raster data for 2020 aligned.\n",
      "Raster data for 2021 aligned.\n",
      "Raster data for 2022 aligned.\n",
      "Raster data for 2023 aligned.\n"
     ]
    }
   ],
   "source": [
    "years = ['2013','2014','2015','2016','2017','2018','2019','2020','2021','2022','2023']\n",
    "for year in years:\n",
    "    with arcpy.EnvManager(snapRaster=f\"Hennepin2023_Parcels_Raster{resolution}\"):\n",
    "        arcpy.management.Clip(\n",
    "            in_raster=f\"Hennepin{year}_Parcels_Raster{resolution}\",\n",
    "            rectangle=\"439356.3565 4959189.9023 485986.3565 5010369.9023\",\n",
    "            out_raster=fr\"C:\\Mac\\Home\\Desktop\\Spatial Temporal Seminar\\SpatioTemporalFinalProject\\SpatioTemporalFinalProject.gdb\\Hennepin{year}_Aligned{resolution}\",\n",
    "            in_template_dataset=\"Hennepin2023_Parcels_Raster10\",\n",
    "            nodata_value=\"0\",\n",
    "            clipping_geometry=\"NONE\",\n",
    "            maintain_clipping_extent=\"NO_MAINTAIN_EXTENT\"\n",
    "        )\n",
    "        print(f\"Raster data for {year} aligned.\")"
   ]
  },
  {
   "cell_type": "markdown",
   "metadata": {},
   "source": [
    "### Conditional to prepare rasters to find study area"
   ]
  },
  {
   "cell_type": "code",
   "execution_count": 12,
   "metadata": {},
   "outputs": [
    {
     "name": "stdout",
     "output_type": "stream",
     "text": [
      "Saved ResComInd15_Change_2022_2023\n"
     ]
    }
   ],
   "source": [
    "# Industrial to Residental (1 for ind to res, -1 for res to ind)\n",
    "import arcpy\n",
    "from arcpy.sa import Con\n",
    "\n",
    "years = ['2013','2014','2015','2016','2017','2018','2019','2020','2021','2022']\n",
    "for year in years:\n",
    "    year1 = year\n",
    "    year2 = str(int(year) + 1)\n",
    "    # Input raster paths\n",
    "    raster1 = fr\"Hennepin{year1}_Aligned{resolution}\"\n",
    "    raster2 = fr\"Hennepin{year2}_Aligned{resolution}\"\n",
    "\n",
    "    output_raster = Con((arcpy.Raster(raster1) == 3) & (arcpy.Raster(raster2) == 1), 1,\n",
    "                    Con((arcpy.Raster(raster1) == 1) & (arcpy.Raster(raster2) == 3), -1, 100))\n",
    "\n",
    "    # Save the output raster\n",
    "    output_raster.save(fr\"C:\\Mac\\Home\\Desktop\\Spatial Temporal Seminar\\SpatioTemporalFinalProject\\Change Rasters\\Residential{resolution}_Change_{year1}_{year2}.tif\")\n",
    "    print(f\"Saved Res{resolution}_100_{year1}_{year2}\")"
   ]
  },
  {
   "cell_type": "markdown",
   "metadata": {},
   "source": [
    "### Add rasters together and find study area"
   ]
  },
  {
   "cell_type": "code",
   "execution_count": null,
   "metadata": {},
   "outputs": [],
   "source": [
    "# Add all rasters together\n",
    "with arcpy.EnvManager(scratchWorkspace=r\"C:\\Mac\\Home\\Desktop\\Spatial Temporal Seminar\\SpatioTemporalFinalProject\\SpatioTemporalFinalProject.gdb\"):\n",
    "    output_raster = arcpy.ia.RasterCalculator(\n",
    "        expression=' \"Res15_100_2013_2014\" + \"Res15_100_2014_2015\" + \"Res15_100_2015_2016\" + \"Res15_100_2016_2017\" + \"Res15_100_2017_2018\" + \"Res15_100_2018_2019\" + \"Res15_100_2019_2020\" + \"Res15_100_2020_2021\" + \"Res15_100_2021_2022\" + \"Res15_100_2022_2023\"'\n",
    "    )\n",
    "    output_raster.save(r\"C:\\Mac\\Home\\Desktop\\Spatial Temporal Seminar\\SpatioTemporalFinalProject\\SpatioTemporalFinalProject.gdb\\Res15_100_Added\")"
   ]
  },
  {
   "cell_type": "code",
   "execution_count": null,
   "metadata": {},
   "outputs": [],
   "source": [
    "# Set anything with the value of 1000 (did not get impacted by residential or industrial change) to null\n",
    "with arcpy.EnvManager(scratchWorkspace=r\"C:\\Mac\\Home\\Desktop\\Spatial Temporal Seminar\\SpatioTemporalFinalProject\\SpatioTemporalFinalProject.gdb\"):\n",
    "    out_raster = arcpy.sa.SetNull(\n",
    "        in_conditional_raster=f\"Res{resolution}_100_Added\",\n",
    "        in_false_raster_or_constant=f\"Res{resolution}_100_Added\",\n",
    "        where_clause=\"Value = 1000\"\n",
    "    )\n",
    "    out_raster.save(fr\"C:\\Mac\\Home\\Desktop\\Spatial Temporal Seminar\\SpatioTemporalFinalProject\\SpatioTemporalFinalProject.gdb\\Res{resolution}_Template\")"
   ]
  },
  {
   "cell_type": "markdown",
   "metadata": {},
   "source": [
    "### Convert study area raster to polygon for clipping"
   ]
  },
  {
   "cell_type": "code",
   "execution_count": null,
   "metadata": {},
   "outputs": [],
   "source": [
    "arcpy.conversion.RasterToPolygon(\n",
    "    in_raster=f\"Res{resolution}_Template\",\n",
    "    out_polygon_features=fr\"C:\\Mac\\Home\\Desktop\\Spatial Temporal Seminar\\SpatioTemporalFinalProject\\SpatioTemporalFinalProject.gdb\\Res{resolution}_Scope\",\n",
    "    simplify=\"NO_SIMPLIFY\",\n",
    "    raster_field=\"Value\",\n",
    "    create_multipart_features=\"SINGLE_OUTER_PART\",\n",
    "    max_vertices_per_feature=None\n",
    ")"
   ]
  }
 ],
 "metadata": {
  "kernelspec": {
   "display_name": "ArcGISPro",
   "language": "Python",
   "name": "python3"
  },
  "language_info": {
   "file_extension": ".py",
   "name": "python",
   "version": "3"
  }
 },
 "nbformat": 4,
 "nbformat_minor": 2
}
