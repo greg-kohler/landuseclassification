{
 "cells": [
  {
   "cell_type": "markdown",
   "metadata": {},
   "source": [
    "# Section 2: Data Preparation and Analysis"
   ]
  },
  {
   "cell_type": "markdown",
   "metadata": {},
   "source": [
    "### Clip Rasters to Polygon"
   ]
  },
  {
   "cell_type": "code",
   "execution_count": 2,
   "metadata": {},
   "outputs": [],
   "source": [
    "resolution = 15"
   ]
  },
  {
   "cell_type": "code",
   "execution_count": 13,
   "metadata": {
    "scrolled": true
   },
   "outputs": [
    {
     "name": "stdout",
     "output_type": "stream",
     "text": [
      "Raster data for 2013 aligned.\n",
      "Raster data for 2014 aligned.\n",
      "Raster data for 2015 aligned.\n",
      "Raster data for 2016 aligned.\n",
      "Raster data for 2017 aligned.\n",
      "Raster data for 2018 aligned.\n",
      "Raster data for 2019 aligned.\n",
      "Raster data for 2020 aligned.\n",
      "Raster data for 2021 aligned.\n",
      "Raster data for 2022 aligned.\n",
      "Raster data for 2023 aligned.\n"
     ]
    }
   ],
   "source": [
    "years = ['2013','2014','2015','2016','2017','2018','2019','2020','2021','2022','2023']\n",
    "for year in years:\n",
    "    year1 = year\n",
    "    year2 = str(int(year) + 1)\n",
    "    arcpy.management.Clip(\n",
    "        in_raster=fr\"C:\\Mac\\Home\\Desktop\\Spatial Temporal Seminar\\SpatioTemporalFinalProject\\SpatioTemporalFinalProject.gdb\\Hennepin{year}_Aligned{resolution}\",\n",
    "        rectangle=\"439356.3565 4959219.9023 485991.3565 5010369.9023\",\n",
    "        out_raster=fr\"C:\\Mac\\Home\\Desktop\\Spatial Temporal Seminar\\SpatioTemporalFinalProject\\SpatioTemporalFinalProject.gdb\\Hennepin{year}_Clipped{resolution}\",\n",
    "        in_template_dataset=fr\"C:\\Mac\\Home\\Desktop\\Spatial Temporal Seminar\\SpatioTemporalFinalProject\\SpatioTemporalFinalProject.gdb\\Res{resolution}_Scope\",\n",
    "        clipping_geometry=\"ClippingGeometry\",\n",
    "        maintain_clipping_extent=\"NO_MAINTAIN_EXTENT\"\n",
    "    )\n",
    "    print(f\"Raster data for {year} clipped.\")"
   ]
  },
  {
   "cell_type": "markdown",
   "metadata": {},
   "source": [
    "### Convert Raster Cells to Point"
   ]
  },
  {
   "cell_type": "code",
   "execution_count": 14,
   "metadata": {},
   "outputs": [
    {
     "name": "stdout",
     "output_type": "stream",
     "text": [
      "Raster to point for 2013 completed\n",
      "Raster to point for 2014 completed\n",
      "Raster to point for 2015 completed\n",
      "Raster to point for 2016 completed\n",
      "Raster to point for 2017 completed\n",
      "Raster to point for 2018 completed\n",
      "Raster to point for 2019 completed\n",
      "Raster to point for 2020 completed\n",
      "Raster to point for 2021 completed\n",
      "Raster to point for 2022 completed\n",
      "Raster to point for 2023 completed\n"
     ]
    }
   ],
   "source": [
    "years = ['2013','2014','2015','2016','2017','2018','2019','2020','2021','2022','2023']\n",
    "for year in years:\n",
    "    arcpy.conversion.RasterToPoint(\n",
    "        in_raster=f\"Hennepin{year}_Clipped{resolution}\",\n",
    "        out_point_features=fr\"C:\\Mac\\Home\\Desktop\\Spatial Temporal Seminar\\SpatioTemporalFinalProject\\SpatioTemporalFinalProject.gdb\\LandPoint_{year}\",\n",
    "        raster_field=\"Value\"\n",
    "    )\n",
    "    print(f\"Raster to point for {year} completed\")"
   ]
  },
  {
   "cell_type": "markdown",
   "metadata": {},
   "source": [
    "### Calculate Field for Timestamp"
   ]
  },
  {
   "cell_type": "code",
   "execution_count": 15,
   "metadata": {},
   "outputs": [],
   "source": [
    "years = ['2013','2014','2015','2016','2017','2018','2019','2020','2021','2022','2023']\n",
    "for year in years:\n",
    "    yearint = int(year)\n",
    "    arcpy.management.CalculateField(\n",
    "        in_table=f\"LandPoint_{year}\",\n",
    "        field=\"TimeStamp\",\n",
    "        expression=f\"Date({yearint},0,1)\",\n",
    "        expression_type=\"ARCADE\",\n",
    "        code_block=\"\",\n",
    "        field_type=\"DATE\",\n",
    "        enforce_domains=\"NO_ENFORCE_DOMAINS\"\n",
    "    )"
   ]
  },
  {
   "cell_type": "markdown",
   "metadata": {},
   "source": [
    "### Merge All Points Together"
   ]
  },
  {
   "cell_type": "code",
   "execution_count": 16,
   "metadata": {},
   "outputs": [
    {
     "data": {
      "text/html": [
       "<div class='gpresult'><h2>Messages</h2><div id='messages'>Start Time: Monday, November 25, 2024 3:48:43 PM<br>Succeeded at Monday, November 25, 2024 3:48:58 PM (Elapsed Time: 15.51 seconds)<br></div><div id = 'default' /></div></div>"
      ],
      "text/plain": [
       "<Result 'C:\\\\Mac\\\\Home\\\\Desktop\\\\Spatial Temporal Seminar\\\\SpatioTemporalFinalProject\\\\SpatioTemporalFinalProject.gdb\\\\LandPoints_Merged'>"
      ]
     },
     "execution_count": 16,
     "metadata": {},
     "output_type": "execute_result"
    }
   ],
   "source": [
    "# Merge all points into one layer\n",
    "arcpy.management.Merge(\n",
    "    inputs=\"LandPoint_2013;LandPoint_2014;LandPoint_2015;LandPoint_2016;LandPoint_2017;LandPoint_2018;LandPoint_2019;LandPoint_2020;LandPoint_2021;LandPoint_2022;LandPoint_2023\",\n",
    "    output=r\"C:\\Mac\\Home\\Desktop\\Spatial Temporal Seminar\\SpatioTemporalFinalProject\\SpatioTemporalFinalProject.gdb\\LandPoints_Merged\",\n",
    "    field_mappings='pointid \"pointid\" true true false 4 Long 0 0,First,#,LandPoint_2013,pointid,-1,-1,LandPoint_2014,pointid,-1,-1,LandPoint_2015,pointid,-1,-1,LandPoint_2016,pointid,-1,-1,LandPoint_2017,pointid,-1,-1,LandPoint_2018,pointid,-1,-1,LandPoint_2019,pointid,-1,-1,LandPoint_2020,pointid,-1,-1,LandPoint_2021,pointid,-1,-1,LandPoint_2022,pointid,-1,-1,LandPoint_2023,pointid,-1,-1;grid_code \"grid_code\" true true false 4 Long 0 0,First,#,LandPoint_2013,grid_code,-1,-1,LandPoint_2014,grid_code,-1,-1,LandPoint_2015,grid_code,-1,-1,LandPoint_2016,grid_code,-1,-1,LandPoint_2017,grid_code,-1,-1,LandPoint_2018,grid_code,-1,-1,LandPoint_2019,grid_code,-1,-1,LandPoint_2020,grid_code,-1,-1,LandPoint_2021,grid_code,-1,-1,LandPoint_2022,grid_code,-1,-1,LandPoint_2023,grid_code,-1,-1;TimeStamp \"TimeStamp\" true true false 8 Date 0 0,First,#,LandPoint_2013,TimeStamp,-1,-1,LandPoint_2014,TimeStamp,-1,-1,LandPoint_2015,TimeStamp,-1,-1,LandPoint_2016,TimeStamp,-1,-1,LandPoint_2017,TimeStamp,-1,-1,LandPoint_2018,TimeStamp,-1,-1,LandPoint_2019,TimeStamp,-1,-1,LandPoint_2020,TimeStamp,-1,-1,LandPoint_2021,TimeStamp,-1,-1,LandPoint_2022,TimeStamp,-1,-1,LandPoint_2023,TimeStamp,-1,-1',\n",
    "    add_source=\"NO_SOURCE_INFO\"\n",
    ")"
   ]
  },
  {
   "cell_type": "markdown",
   "metadata": {},
   "source": [
    "### Export points to clean up other land uses (from not being fully aligned)"
   ]
  },
  {
   "cell_type": "code",
   "execution_count": 17,
   "metadata": {},
   "outputs": [
    {
     "data": {
      "text/html": [
       "<div class='gpresult'><h2>Messages</h2><div id='messages'>Start Time: Monday, November 25, 2024 3:49:16 PM<br>Succeeded at Monday, November 25, 2024 3:49:30 PM (Elapsed Time: 14.32 seconds)<br></div><div id = 'default' /></div></div>"
      ],
      "text/plain": [
       "<Result 'C:\\\\Mac\\\\Home\\\\Desktop\\\\Spatial Temporal Seminar\\\\SpatioTemporalFinalProject\\\\SpatioTemporalFinalProject.gdb\\\\LandPoints_Merged_Cleaned'>"
      ]
     },
     "execution_count": 17,
     "metadata": {},
     "output_type": "execute_result"
    }
   ],
   "source": [
    "# Only export points with an industrial or residential land use \n",
    "arcpy.conversion.ExportFeatures(\n",
    "    in_features=\"LandPoints_Merged\",\n",
    "    out_features=r\"C:\\Mac\\Home\\Desktop\\Spatial Temporal Seminar\\SpatioTemporalFinalProject\\SpatioTemporalFinalProject.gdb\\LandPoints_Merged_Cleaned\",\n",
    "    where_clause=\"grid_code = 1 Or grid_code = 3\",\n",
    "    use_field_alias_as_name=\"NOT_USE_ALIAS\",\n",
    "    field_mapping='pointid \"pointid\" true true false 4 Long 0 0,First,#,LandPoints_Merged,pointid,-1,-1;grid_code \"grid_code\" true true false 4 Long 0 0,First,#,LandPoints_Merged,grid_code,-1,-1;TimeStamp \"TimeStamp\" true true false 8 Date 0 0,First,#,LandPoints_Merged,TimeStamp,-1,-1',\n",
    "    sort_field=None\n",
    ")"
   ]
  },
  {
   "cell_type": "markdown",
   "metadata": {},
   "source": [
    "### Reclassify Landuse to Focus on Res and Ind"
   ]
  },
  {
   "cell_type": "code",
   "execution_count": 18,
   "metadata": {},
   "outputs": [
    {
     "data": {
      "text/html": [
       "<div class='gpresult'><h2>Messages</h2><div id='messages'>Start Time: Monday, November 25, 2024 3:52:05 PM<br>Adding cleaned_code to LandPoints_Merged_Cleaned...<br>Succeeded at Monday, November 25, 2024 3:52:26 PM (Elapsed Time: 21.27 seconds)<br></div><div id = 'default' /></div></div>"
      ],
      "text/plain": [
       "<Result 'LandPoints_Merged_Cleaned'>"
      ]
     },
     "execution_count": 18,
     "metadata": {},
     "output_type": "execute_result"
    }
   ],
   "source": [
    "arcpy.management.CalculateField(\n",
    "    in_table=\"LandPoints_Merged_Cleaned\",\n",
    "    field=\"cleaned_code\",\n",
    "    expression=\"limited(!grid_code!)\",\n",
    "    expression_type=\"PYTHON3\",\n",
    "    code_block=\"\"\"def limited(land):\n",
    "    if land == 1:\n",
    "        return 1\n",
    "    elif land == 3:\n",
    "        return -1\n",
    "    else:\n",
    "        return 0\"\"\",\n",
    "    field_type=\"SHORT\",\n",
    "    enforce_domains=\"NO_ENFORCE_DOMAINS\"\n",
    ")"
   ]
  },
  {
   "cell_type": "markdown",
   "metadata": {},
   "source": [
    "### Create Space Time Cube"
   ]
  },
  {
   "cell_type": "code",
   "execution_count": 4,
   "metadata": {},
   "outputs": [
    {
     "data": {
      "text/html": [
       "<div class='gpresult'><h2>Messages</h2><div id='messages' data-messages='[\"Start Time: Monday, December 2, 2024 1:13:04 PM\",{\"element\":\"content\",\"data\":\"The space time cube has aggregated 283182 points into 10176438 fishnet grid locations over 11 time step intervals.  Each location is a 15 meters by 15 meters square.  The entire space time cube spans an area 45390 meters west to east and 50445 meters north to south.  Each of the time step intervals is 1 year in duration so the entire time period covered by the space time cube is 11 years.  Of the 10176438 total locations, 26843 (0.26%) contain at least one point for at least one time step interval.  These 26843 locations comprise 295273 space time bins of which 283182 (95.91%) have point counts greater than zero.  There is a statistically significant decrease in point counts over time.\"},[{\"element\":\"table\",\"data\":[[{\"data\":\"Input feature time extent\",\"prop\":{\"rowspan\":2}},\"2013-01-01 00:00:00\"],[{\"data\":\"to 2023-01-01 00:00:00\",\"prop\":{\"text-align\":\"right\"}}],[\"\",\"\"],[\"Number of time steps\",\"11\"],[\"Time step interval\",\"1 year\"],[\"Time step alignment\",\"Start\"],[\"\",\"\"],[\"First time step temporal bias\",\"0.00%\"],[{\"data\":\"First time step interval\",\"prop\":{\"rowspan\":4}},\"on or after\"],[{\"data\":\"2013-01-01 00:00:00\",\"prop\":{\"text-align\":\"right\"}}],[{\"data\":\"to before\",\"prop\":{\"text-align\":\"right\"}}],[{\"data\":\"2014-01-01 00:00:00\",\"prop\":{\"text-align\":\"right\"}}],[\"\",\"\"],[\"Last time step temporal bias\",\"100.00%\"],[{\"data\":\"Last time step interval\",\"prop\":{\"rowspan\":4}},\"on or after\"],[{\"data\":\"2023-01-01 00:00:00\",\"prop\":{\"text-align\":\"right\"}}],[{\"data\":\"to before\",\"prop\":{\"text-align\":\"right\"}}],[{\"data\":\"2024-01-01 00:00:00\",\"prop\":{\"text-align\":\"right\"}}],[\"\",\"\"],[\"Coordinate System\",\"NAD 1983 UTM Zone 15N\"],[\"Cube extent across space\",\"(coordinates in meters)\"],[\"Min X\",\"439626.3565\"],[\"Min Y\",\"4959744.9023\"],[\"Max X\",\"485016.3565\"],[\"Max Y\",\"5010189.9023\"],[\"Rows\",\"3363\"],[\"Columns\",\"3026\"],[\"Total bins\",\"111940818\"]],\"elementProps\":{\"striped\":\"true\",\"noHeader\":true,\"title\":\"Space Time Cube Characteristics\",\"0\":{\"align\":\"left\",\"pad\":\"0px\",\"wrap\":true},\"1\":{\"align\":\"right\",\"pad\":\"0px\",\"wrap\":true}}}],[{\"element\":\"table\",\"data\":[[{\"data\":\"Total number of locations\",\"prop\":{\"font-weight\":\"bold\"}},\"10176438\"],[{\"data\":\"Locations with at least one point\",\"prop\":{\"font-weight\":\"bold\"}},\"  26843\"],[{\"data\":\"- associated bins\",\"prop\":{\"font-weight\":\"bold\"}},\" 295273\"],[{\"data\":\"- % non-zero (sparseness)\",\"prop\":{\"font-weight\":\"bold\"}},\"  95.91\"]],\"elementProps\":{\"striped\":\"true\",\"title\":\"COUNT\",\"0\":{\"align\":\"left\",\"pad\":\"0px\",\"wrap\":true},\"1\":{\"align\":\"right\",\"pad\":\"0px\",\"wrap\":true},\"2\":{\"align\":\"left\",\"pad\":\"0px\",\"wrap\":true},\"3\":{\"align\":\"right\",\"pad\":\"0px\",\"wrap\":true}}}],[{\"element\":\"table\",\"data\":[[\"% of locations excluded due to unfilled bins\",\"0 (   0.00%)\"],[\"- Total number\",\"0\"],[\"Total number of locations\",\"26843\"],[\"- associated bins\",\"295273\"],[\"% of included locations with estimated bins\",\" 17.48%\"],[\"- Total number\",\"4692\"],[\"% of all bins that were estimated\",\"  4.09%\"],[\"- Total number\",\"12091\"]],\"elementProps\":{\"striped\":\"true\",\"title\":\"Summary Field - CLEANED_CODE_MEDIAN_ZEROS\",\"0\":{\"align\":\"left\",\"pad\":\"0px\",\"wrap\":true},\"1\":{\"align\":\"right\",\"pad\":\"0px\",\"wrap\":true}}}],[{\"element\":\"table\",\"data\":[[\"Trend direction\",\"     Decreasing\"],[\"Trend statistic\",\"-2.0241\"],[\"Trend p-value\",\"0.0430\"]],\"elementProps\":{\"striped\":\"true\",\"noHeader\":true,\"title\":\"Overall Data Trend - COUNT\",\"0\":{\"align\":\"left\",\"pad\":\"0px\",\"wrap\":true},\"1\":{\"align\":\"right\",\"pad\":\"0px\",\"wrap\":true}}}],[{\"element\":\"table\",\"data\":[[\"Trend direction\",\"     Decreasing\"],[\"Trend statistic\",\"-2.9583\"],[\"Trend p-value\",\"0.0031\"]],\"elementProps\":{\"striped\":\"true\",\"noHeader\":true,\"title\":\"Overall Data Trend - CLEANED_CODE_MEDIAN_ZEROS\",\"0\":{\"align\":\"left\",\"pad\":\"0px\",\"wrap\":true},\"1\":{\"align\":\"right\",\"pad\":\"0px\",\"wrap\":true}}}],\"Succeeded at Monday, December 2, 2024 1:14:17 PM (Elapsed Time: 1 minutes 12 seconds)\"]' data-show='true'><div id = 'default' /></div></div>"
      ],
      "text/plain": [
       "<Result 'C:\\\\Mac\\\\Home\\\\Desktop\\\\Spatial Temporal Seminar\\\\SpatioTemporalFinalProject\\\\STCube_IndtoRes_15.nc'>"
      ]
     },
     "execution_count": 4,
     "metadata": {},
     "output_type": "execute_result"
    }
   ],
   "source": [
    "arcpy.stpm.CreateSpaceTimeCube(\n",
    "    in_features=\"LandPoints_Merged_Cleaned\",\n",
    "    output_cube=fr\"C:\\Mac\\Home\\Desktop\\Spatial Temporal Seminar\\SpatioTemporalFinalProject\\STCube_IndtoRes_{resolution}.nc\",\n",
    "    time_field=\"TimeStamp\",\n",
    "    template_cube=None,\n",
    "    time_step_interval=\"1 Years\",\n",
    "    time_step_alignment=\"START_TIME\",\n",
    "    reference_time=None,\n",
    "    distance_interval=\"15 Meters\",\n",
    "    summary_fields=\"cleaned_code MEDIAN ZEROS\",\n",
    "    aggregation_shape_type=\"FISHNET_GRID\",\n",
    "    defined_polygon_locations=None,\n",
    "    location_id=None\n",
    ")"
   ]
  },
  {
   "cell_type": "markdown",
   "metadata": {},
   "source": [
    "### Perform Analysis"
   ]
  },
  {
   "cell_type": "code",
   "execution_count": 6,
   "metadata": {},
   "outputs": [
    {
     "data": {
      "text/html": [
       "<div class='gpresult'><h2>Messages</h2><div id='messages' data-messages='[\"Start Time: Tuesday, December 3, 2024 1:39:42 PM\",\"\",[{\"element\":\"table\",\"data\":[[\"Distance interval\",\"15 meters\"],[\"Time step interval\",\"1 year\"],[\"\",\"\"],[\"Aggregation Shape Type\",\"Fishnet Grid\"],[\"\",\"\"],[\"First time step temporal bias\",\"0.00%\"],[{\"data\":\"First time step interval\",\"prop\":{\"rowspan\":4}},\"on or after\"],[{\"data\":\"2013-01-01 00:00:00\",\"prop\":{\"text-align\":\"right\"}}],[{\"data\":\"to before\",\"prop\":{\"text-align\":\"right\"}}],[{\"data\":\"2014-01-01 00:00:00\",\"prop\":{\"text-align\":\"right\"}}],[\"\",\"\"],[\"Last time step temporal bias\",\"100.00%\"],[{\"data\":\"Last time step interval\",\"prop\":{\"rowspan\":4}},\"on or after\"],[{\"data\":\"2023-01-01 00:00:00\",\"prop\":{\"text-align\":\"right\"}}],[{\"data\":\"to before\",\"prop\":{\"text-align\":\"right\"}}],[{\"data\":\"2024-01-01 00:00:00\",\"prop\":{\"text-align\":\"right\"}}],[\"\",\"\"],[\"Number of time steps\",\"11\"],[\"Number of locations analyzed\",\"26843\"],[\"Number of space time bins analyzed\",\"295273\"],[\"% non-zero\",\"95.91%\"]],\"elementProps\":{\"striped\":\"true\",\"noHeader\":true,\"title\":\"Input Space Time Cube Details\",\"0\":{\"align\":\"left\",\"pad\":\"0px\",\"wrap\":true},\"1\":{\"align\":\"right\",\"pad\":\"0px\",\"wrap\":true}}}],[{\"element\":\"table\",\"data\":[[\"Neighborhood distance\",\"275 meters\"],[\"Neighborhood time step intervals\",\"2 (spanning 2 years)\"]],\"elementProps\":{\"striped\":\"true\",\"noHeader\":true,\"title\":\"Analysis Details\",\"0\":{\"align\":\"left\",\"pad\":\"0px\",\"wrap\":true},\"1\":{\"align\":\"right\",\"pad\":\"0px\",\"wrap\":true}}}],[{\"element\":\"table\",\"data\":[[\"\",\"HOT\",\"COLD\"],[\"New\",\"87\",\"417\"],[\"Consecutive\",\"212\",\"57\"],[\"Intensifying\",\"610\",\"0\"],[\"Persistent\",\"882\",\"484\"],[\"Diminishing\",\"0\",\"0\"],[\"Sporadic\",\"18\",\"10\"],[\"Oscillating\",\"2054\",\"21520\"],[\"Historical\",\"0\",\"0\"]],\"elementProps\":{\"striped\":\"true\",\"footnote\":[\"All locations with hot or cold spot trends: 26351 of 26843\"],\"title\":\"Summary of Results\",\"0\":{\"align\":\"left\",\"pad\":\"0px\",\"wrap\":true},\"1\":{\"align\":\"right\",\"pad\":\"0px\",\"wrap\":true},\"2\":{\"align\":\"right\",\"pad\":\"0px\",\"wrap\":true}}}],{\"element\":\"h5\",\"data\":\"Category Definitions\"},{\"element\":\"content\",\"data\":\"Last time step is hot:\"},{\"element\":\"unorderedlist\",\"data\":[\"New: the most recent time step interval is hot for the first time\",\"Consecutive: a single uninterrupted run of hot time step intervals, comprised of less than 90% of all intervals\",\"Intensifying: at least 90% of the time step intervals are hot, and becoming hotter over time\",\"Persistent: at least 90% of the time step intervals are hot, with no trend up or down\",\"Diminishing: at least 90% of the time step intervals are hot, and becoming less hot over time\",\"Sporadic: some of the time step intervals are hot\",\"Oscillating: some of the time step intervals are hot, some are cold\"]},{\"element\":\"content\",\"data\":\"Last time step is not hot:\"},{\"element\":\"unorderedlist\",\"data\":[\"Historical: at least 90% of the time step intervals are hot, but the most recent time step interval is not\"]},{\"element\":\"content\",\"data\":\"Last time step is cold:\"},{\"element\":\"unorderedlist\",\"data\":[\"New: the most recent time step interval is cold for the first time\",\"Consecutive: a single uninterrupted run of cold time step intervals, comprised of less than 90% of all\",\"Intensifying: at least 90% of the time step intervals are cold, and becoming colder over time\",\"Persistent: at least 90% of the time step intervals are cold, with no trend up or down\",\"Diminishing: at least 90% of the time step intervals are cold, and becoming less cold over time intervals\",\"Sporadic: some of the time step intervals are cold\",\"Oscillating: some of the time step intervals are cold, some are hot\"]},{\"element\":\"content\",\"data\":\"Last time step is not cold:\"},{\"element\":\"unorderedlist\",\"data\":[\"Historical: at least 90% of the time step intervals are cold, but the most recent time step interval is not\"]},\"\\n\\n\\n\\n\\n\\n\\n\\n\\n\",\"Succeeded at Tuesday, December 3, 2024 1:41:29 PM (Elapsed Time: 1 minutes 46 seconds)\"]' data-show='true'><div id = 'default' /></div></div>"
      ],
      "text/plain": [
       "<Result 'C:\\\\Mac\\\\Home\\\\Desktop\\\\Spatial Temporal Seminar\\\\SpatioTemporalFinalProject\\\\SpatioTemporalFinalProject.gdb\\\\EmergingHotSpot2year_IndtoRes_275'>"
      ]
     },
     "execution_count": 6,
     "metadata": {},
     "output_type": "execute_result"
    }
   ],
   "source": [
    "arcpy.stpm.EmergingHotSpotAnalysis(\n",
    "    in_cube=fr\"C:\\Mac\\Home\\Desktop\\Spatial Temporal Seminar\\SpatioTemporalFinalProject\\STCube_IndtoRes_{resolution}.nc\",\n",
    "    analysis_variable=\"CLEANED_CODE_MEDIAN_ZEROS\",\n",
    "    output_features=fr\"C:\\Mac\\Home\\Desktop\\Spatial Temporal Seminar\\SpatioTemporalFinalProject\\SpatioTemporalFinalProject.gdb\\EmergingHotSpotAnalysis_IndtoRes_275\",\n",
    "    neighborhood_distance=f\"275 Meters\",\n",
    "    neighborhood_time_step=1,\n",
    "    polygon_mask=None,\n",
    "    conceptualization_of_spatial_relationships=\"FIXED_DISTANCE\",\n",
    "    number_of_neighbors=None,\n",
    "    define_global_window=\"ENTIRE_CUBE\"\n",
    ")"
   ]
  }
 ],
 "metadata": {
  "kernelspec": {
   "display_name": "ArcGISPro",
   "language": "Python",
   "name": "python3"
  },
  "language_info": {
   "file_extension": ".py",
   "name": "python",
   "version": "3"
  }
 },
 "nbformat": 4,
 "nbformat_minor": 2
}
